{
 "cells": [
  {
   "cell_type": "code",
   "execution_count": 3,
   "id": "ef078725",
   "metadata": {},
   "outputs": [
    {
     "name": "stdout",
     "output_type": "stream",
     "text": [
      "Input TWO values to be added seperating the first fromm the second using ',' \n",
      "Values are 10,10\n"
     ]
    }
   ],
   "source": [
    "#User Enters two required Inputs\n",
    "\n",
    "print(\"Input TWO values to be added seperating the first fromm the second using ',' \")\n",
    "\n",
    "#I use Split func to indicate a spereation in the values\n",
    "#map fun i sused toto map the inputs to a function -being int- and set each of vlaues to this function\n",
    "\n",
    "a,b = map(int,input(\"Values are \").split(','))"
   ]
  },
  {
   "cell_type": "code",
   "execution_count": 4,
   "id": "6906e94d",
   "metadata": {},
   "outputs": [
    {
     "name": "stdout",
     "output_type": "stream",
     "text": [
      "20\n"
     ]
    }
   ],
   "source": [
    "#Add the two inputs print value\n",
    "\n",
    "x = a + b\n",
    "\n",
    "print(x)"
   ]
  },
  {
   "cell_type": "code",
   "execution_count": null,
   "id": "42f594e8",
   "metadata": {},
   "outputs": [],
   "source": []
  }
 ],
 "metadata": {
  "kernelspec": {
   "display_name": "Python 3 (ipykernel)",
   "language": "python",
   "name": "python3"
  },
  "language_info": {
   "codemirror_mode": {
    "name": "ipython",
    "version": 3
   },
   "file_extension": ".py",
   "mimetype": "text/x-python",
   "name": "python",
   "nbconvert_exporter": "python",
   "pygments_lexer": "ipython3",
   "version": "3.9.12"
  }
 },
 "nbformat": 4,
 "nbformat_minor": 5
}
