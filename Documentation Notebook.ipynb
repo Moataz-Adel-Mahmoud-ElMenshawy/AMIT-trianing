{
 "cells": [
  {
   "cell_type": "code",
   "execution_count": 17,
   "id": "9e8db0b8",
   "metadata": {},
   "outputs": [
    {
     "name": "stdout",
     "output_type": "stream",
     "text": [
      "My main Info is (1, 2, 3, 4, 5)\n"
     ]
    }
   ],
   "source": [
    "class PersonalID():                     #i set up main class whic i place my main data (Encapsulation and Abstraction)\n",
    "    \n",
    "    def __init__(test,*var1):           #due to the *arg i can expect any number of inputs as tuples\n",
    "        \n",
    "        test.varaibles = var1\n",
    "    \n",
    "    def __str__(test):\n",
    "        \n",
    "        z = \"My main Info is \" +str(test.varaibles)\n",
    "        \n",
    "        return z\n",
    "    \n",
    "class ExtraInfo(PersonalID):\n",
    "    \n",
    "    def __init__(extra,*var1):\n",
    "        \n",
    "        extra.info = var1\n",
    "    \n",
    "    def __str__(extra):\n",
    "        \n",
    "        print(\"My extra info is\" +extra.info)\n",
    "    \n",
    "    def __contain__(extra,*var2):\n",
    "        \n",
    "        if var2 in extra.info:\n",
    "            \n",
    "            return True\n",
    "        else:\n",
    "            \n",
    "            return False\n",
    "        \n",
    "x = PersonalID(1,2,3,4,5)\n",
    "\n",
    "y = ExtraInfo(\"My weight\",\"My T-shirt size\",248151651)\n",
    "\n",
    "print(x)   #using the DAMN __str__\n",
    "\n",
    "if \"My T-shirt size\" in y:   #trying to use __contain__\n",
    "    \n",
    "    print(\"Data exists\")\n",
    "else:\n",
    "    \n",
    "    print(\"Data no existy\")"
   ]
  },
  {
   "cell_type": "code",
   "execution_count": null,
   "id": "3daa0553",
   "metadata": {},
   "outputs": [],
   "source": []
  }
 ],
 "metadata": {
  "kernelspec": {
   "display_name": "Python 3 (ipykernel)",
   "language": "python",
   "name": "python3"
  },
  "language_info": {
   "codemirror_mode": {
    "name": "ipython",
    "version": 3
   },
   "file_extension": ".py",
   "mimetype": "text/x-python",
   "name": "python",
   "nbconvert_exporter": "python",
   "pygments_lexer": "ipython3",
   "version": "3.9.12"
  }
 },
 "nbformat": 4,
 "nbformat_minor": 5
}
