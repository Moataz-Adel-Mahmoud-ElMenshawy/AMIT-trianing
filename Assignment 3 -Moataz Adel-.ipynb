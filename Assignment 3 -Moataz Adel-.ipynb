{
 "cells": [
  {
   "cell_type": "markdown",
   "metadata": {},
   "source": [
    "# Assignment 3"
   ]
  },
  {
   "cell_type": "markdown",
   "metadata": {},
   "source": [
    "### Write a function to count the number 4 in a given list."
   ]
  },
  {
   "cell_type": "code",
   "execution_count": 1,
   "metadata": {},
   "outputs": [
    {
     "data": {
      "text/plain": [
       "4"
      ]
     },
     "execution_count": 1,
     "metadata": {},
     "output_type": "execute_result"
    }
   ],
   "source": [
    "lis = [1,2,4,3,5,4,6,7,4,8,9,4]\n",
    "\n",
    "def countfour (xlist):     # Function decleration\n",
    "    \n",
    "    count_four = 0         # Returning value showing the number of fours in the list\n",
    "    \n",
    "    for index in range(0,len(xlist)): #Loop inside the list\n",
    "        \n",
    "        if xlist[index] == 4:         #Condition to count number of four\n",
    "            \n",
    "            count_four += 1          #increase count every time four appears\n",
    "    \n",
    "    return count_four               \n",
    "\n",
    "countfour(lis)"
   ]
  },
  {
   "cell_type": "markdown",
   "metadata": {},
   "source": [
    "### write a  function to check whether a number is divisible by another number."
   ]
  },
  {
   "cell_type": "code",
   "execution_count": 2,
   "metadata": {},
   "outputs": [
    {
     "data": {
      "text/plain": [
       "False"
      ]
     },
     "execution_count": 2,
     "metadata": {},
     "output_type": "execute_result"
    }
   ],
   "source": [
    "checkdiv = lambda num1,num2: num1%num2 == 0  # Creating a single line func that will return True for numbers that are divisible\n",
    "\n",
    "checkdiv(13,4)"
   ]
  },
  {
   "cell_type": "markdown",
   "metadata": {},
   "source": [
    "### write a function to find the maximum and minimum numbers from a sequence of numbers."
   ]
  },
  {
   "cell_type": "code",
   "execution_count": 3,
   "metadata": {},
   "outputs": [
    {
     "name": "stdout",
     "output_type": "stream",
     "text": [
      "The Mamimum and Max values are\n",
      "(-5, 210)\n"
     ]
    }
   ],
   "source": [
    "lis = [-5,0,2,10,3,5,1,9,210]\n",
    "\n",
    "def FindMaxMin(listt):\n",
    "    \n",
    "    comp = listt[-1]                #Set up a comparison point\n",
    "    \n",
    "    for i in listt:\n",
    "            \n",
    "            if i >= comp:             #Compare the Value of each element in the list with the other element \n",
    "                \n",
    "                max_is =  i               #IF value is larger than or equal compared element save it\n",
    "                \n",
    "                comp = i                  #set new Comp point to max\n",
    "                \n",
    "    for i in listt:\n",
    "            \n",
    "            if i <= comp:            #comapre \n",
    "                \n",
    "                min_is = i               #If value  is smaller than or equal compared element save it\n",
    "                \n",
    "                comp = i                 #set new Comp point to min\n",
    "                \n",
    "    return (min_is,max_is)                      #Return the MIN and MAX value found\n",
    "    \n",
    "    \n",
    "print(\"The Mamimum and Max values are\")\n",
    "\n",
    "print(FindMaxMin(lis))"
   ]
  },
  {
   "cell_type": "markdown",
   "metadata": {},
   "source": [
    "### Write a Python function that takes two lists and returns True if they have at least one common member."
   ]
  },
  {
   "cell_type": "code",
   "execution_count": 4,
   "metadata": {},
   "outputs": [
    {
     "data": {
      "text/plain": [
       "True"
      ]
     },
     "execution_count": 4,
     "metadata": {},
     "output_type": "execute_result"
    }
   ],
   "source": [
    "#Lists that we will compare if they have any common valdue\n",
    "\n",
    "lis1 = [\"MOataz\",2,3,4]                \n",
    "\n",
    "lis2 = [\"MOataz\",5,6,\"Adel\",12,6]\n",
    "\n",
    "def IfUnion(xlis,ylis):\n",
    "    \n",
    "    x = True                  #Setup a Boolean to dealre if we found a union or NOPE\n",
    "    \n",
    "    for i in xlis:            #Get each element in lis1 and compare it to elements in each list 2\n",
    "        \n",
    "        for j in ylis:\n",
    "            \n",
    "            if i == j:\n",
    "                \n",
    "                return x     #If an elemnt exists in each Lis return TRUE\n",
    "                \n",
    "    return not x             #If not return Flase\n",
    "\n",
    "IfUnion(lis1,lis2)"
   ]
  },
  {
   "cell_type": "markdown",
   "metadata": {},
   "source": [
    "### Write a Python function to calculate the factorial of a number (a non-negative integer). The function accepts the number from the user"
   ]
  },
  {
   "cell_type": "code",
   "execution_count": 5,
   "metadata": {},
   "outputs": [
    {
     "data": {
      "text/plain": [
       "2"
      ]
     },
     "execution_count": 5,
     "metadata": {},
     "output_type": "execute_result"
    }
   ],
   "source": [
    "def Factorial(num):\n",
    "    \n",
    "    if num < 0:                                          #if number is negative return message\n",
    "        \n",
    "        return \"Number is negative and can't enter equation\"\n",
    "    \n",
    "    else:\n",
    "        \n",
    "        if num == 0:\n",
    "            \n",
    "            return 1\n",
    "        \n",
    "        else:\n",
    "            \n",
    "            return num * Factorial(num - 1)               #re run the same Function \n",
    "\n",
    "Factorial(2)"
   ]
  },
  {
   "cell_type": "markdown",
   "metadata": {},
   "source": [
    "### Write a Python function to check whether a number is in a given range.\n",
    "\n",
    "### The range is from 3 to 11\n"
   ]
  },
  {
   "cell_type": "code",
   "execution_count": 6,
   "metadata": {},
   "outputs": [
    {
     "data": {
      "text/plain": [
       "False"
      ]
     },
     "execution_count": 6,
     "metadata": {},
     "output_type": "execute_result"
    }
   ],
   "source": [
    "def checkin_range(num1):       \n",
    "    \n",
    "    for i in range(3,12):      #A loop to comapre Number to each value in Range\n",
    "        \n",
    "        if num1 == i:\n",
    "            \n",
    "            return True       #if number is in range return TRUE\n",
    "        \n",
    "    return False              #If not return False\n",
    "\n",
    "checkin_range(12)"
   ]
  },
  {
   "cell_type": "markdown",
   "metadata": {},
   "source": [
    "### Write a  program to create the multiplication table (from 1 to 10) of a number."
   ]
  },
  {
   "cell_type": "code",
   "execution_count": 7,
   "metadata": {},
   "outputs": [
    {
     "data": {
      "text/plain": [
       "[9, 18, 27, 36, 45, 54, 63, 72, 81, 90]"
      ]
     },
     "execution_count": 7,
     "metadata": {},
     "output_type": "execute_result"
    }
   ],
   "source": [
    "def multitable(num):\n",
    "    \n",
    "    x = list()                   #Creat a list to fill and return\n",
    "    \n",
    "    for i in range(1,11):\n",
    "        \n",
    "        x.append(num*i)           #Fill list with multiplication of our number\n",
    "        \n",
    "    return x\n",
    "\n",
    "multitable(9)"
   ]
  },
  {
   "cell_type": "markdown",
   "metadata": {},
   "source": [
    "#### LESSER OF TWO EVENS: Write a function that returns the lesser of two given numbers *if* both numbers are even, but returns the greater if one or both numbers are odd\n",
    "    lesser_of_two_evens(2,4) --> 2\n",
    "    lesser_of_two_evens(2,5) --> 5"
   ]
  },
  {
   "cell_type": "code",
   "execution_count": 8,
   "metadata": {},
   "outputs": [
    {
     "data": {
      "text/plain": [
       "('Numbers are even and smaller is ', 2)"
      ]
     },
     "execution_count": 8,
     "metadata": {},
     "output_type": "execute_result"
    }
   ],
   "source": [
    "def func(num1,num2):\n",
    "    \n",
    "    if num1%2 ==0 and num2%2 ==0:                          #if both numbers are even do this\n",
    "        \n",
    "        if num1 > num2:                                     #If conditions used to find smaller\n",
    "             \n",
    "            return \"Numbers are even and smaller is \",num2\n",
    "        \n",
    "        elif num2 > num1:\n",
    "            \n",
    "            return \"Numbers are even and smaller is \",num1\n",
    "        \n",
    "        else:                                              #If they are equal in value retunr this message\n",
    "            \n",
    "            return \"Both number are Even and equal\"\n",
    "        \n",
    "    else:                                                 #if both are not even do this\n",
    "        \n",
    "        if num1 > num2:                                   #If conditions used to fins Larger\n",
    "             \n",
    "            return \"Numbers are odd and larger is \",num1\n",
    "        \n",
    "        elif num2 > num1:\n",
    "            \n",
    "            return \"Numbers are odd and larger is \",num2\n",
    "        \n",
    "        else:\n",
    "            \n",
    "            return \"Both number are odd and equal\"\n",
    "        \n",
    "func(10,2)"
   ]
  },
  {
   "cell_type": "code",
   "execution_count": null,
   "metadata": {},
   "outputs": [],
   "source": []
  }
 ],
 "metadata": {
  "kernelspec": {
   "display_name": "Python 3 (ipykernel)",
   "language": "python",
   "name": "python3"
  },
  "language_info": {
   "codemirror_mode": {
    "name": "ipython",
    "version": 3
   },
   "file_extension": ".py",
   "mimetype": "text/x-python",
   "name": "python",
   "nbconvert_exporter": "python",
   "pygments_lexer": "ipython3",
   "version": "3.9.12"
  }
 },
 "nbformat": 4,
 "nbformat_minor": 2
}
